{
 "cells": [
  {
   "cell_type": "code",
   "execution_count": 1,
   "id": "854490b3-d6da-4593-8df1-b7250f67acf5",
   "metadata": {},
   "outputs": [
    {
     "name": "stdout",
     "output_type": "stream",
     "text": [
      "\n",
      "1. Create\n",
      "2. Display\n",
      "3. Raise Salary\n",
      "4. Exit\n"
     ]
    },
    {
     "name": "stdin",
     "output_type": "stream",
     "text": [
      "Enter your choice:  1\n",
      "Enter name:  ishita\n",
      "Enter your age:  23\n",
      "Enter your designation (programmer/manager/tester):  manager\n"
     ]
    },
    {
     "name": "stdout",
     "output_type": "stream",
     "text": [
      "Employee record saved successfully!\n",
      "\n",
      "1. Create\n",
      "2. Display\n",
      "3. Raise Salary\n",
      "4. Exit\n"
     ]
    },
    {
     "name": "stdin",
     "output_type": "stream",
     "text": [
      "Enter your choice:  2\n"
     ]
    },
    {
     "name": "stdout",
     "output_type": "stream",
     "text": [
      "\n",
      "--- Employee Records ---\n",
      "Name: ishita, Age: 23, Salary: 30000, Designation: manager\n",
      "Name: ishita, Age: 23, Salary: 30000, Designation: manager\n",
      "\n",
      "1. Create\n",
      "2. Display\n",
      "3. Raise Salary\n",
      "4. Exit\n"
     ]
    },
    {
     "name": "stdin",
     "output_type": "stream",
     "text": [
      "Enter your choice:  3\n",
      "Enter the name of the person to give hike:  ishita\n",
      "Enter percentage hike (max 30%):  20%\n"
     ]
    },
    {
     "name": "stdout",
     "output_type": "stream",
     "text": [
      "Invalid input! Please enter numeric value for percentage.\n",
      "\n",
      "1. Create\n",
      "2. Display\n",
      "3. Raise Salary\n",
      "4. Exit\n"
     ]
    },
    {
     "name": "stdin",
     "output_type": "stream",
     "text": [
      "Enter your choice:  3\n",
      "Enter the name of the person to give hike:  ishita\n",
      "Enter percentage hike (max 30%):  20\n"
     ]
    },
    {
     "name": "stdout",
     "output_type": "stream",
     "text": [
      "Salary updated for ishita: 30000 -> 36000\n",
      "Salary updated for ishita: 30000 -> 36000\n",
      "\n",
      "1. Create\n",
      "2. Display\n",
      "3. Raise Salary\n",
      "4. Exit\n"
     ]
    },
    {
     "name": "stdin",
     "output_type": "stream",
     "text": [
      "Enter your choice:  4\n"
     ]
    },
    {
     "name": "stdout",
     "output_type": "stream",
     "text": [
      "Thank you for using the application!\n"
     ]
    }
   ],
   "source": [
    "import os\n",
    "\n",
    "FILE_NAME = \"employees.txt\"\n",
    "\n",
    "def create_employee():\n",
    "    try:\n",
    "        with open(FILE_NAME, \"a\") as file:\n",
    "            name = input(\"Enter name: \")\n",
    "            age = int(input(\"Enter your age: \"))\n",
    "            designation = input(\"Enter your designation (programmer/manager/tester): \").lower()\n",
    "\n",
    "            if designation == \"programmer\":\n",
    "                salary = 25000\n",
    "            elif designation == \"manager\":\n",
    "                salary = 30000\n",
    "            elif designation == \"tester\":\n",
    "                salary = 20000\n",
    "            else:\n",
    "                print(\"Invalid designation! Record not saved.\")\n",
    "                return\n",
    "\n",
    "            file.write(f\"{name},{age},{salary},{designation}\\n\")\n",
    "            print(\"Employee record saved successfully!\")\n",
    "    except Exception as e:\n",
    "        print(\"Error while creating employee:\", e)\n",
    "\n",
    "def display_employees():\n",
    "    try:\n",
    "        if not os.path.exists(FILE_NAME):\n",
    "            print(\"No records found!\")\n",
    "            return\n",
    "\n",
    "        with open(FILE_NAME, \"r\") as file:\n",
    "            print(\"\\n--- Employee Records ---\")\n",
    "            for line in file:\n",
    "                name, age, salary, designation = line.strip().split(\",\")\n",
    "                print(f\"Name: {name}, Age: {age}, Salary: {salary}, Designation: {designation}\")\n",
    "    except Exception as e:\n",
    "        print(\"Error displaying employees:\", e)\n",
    "\n",
    "def raise_salary():\n",
    "    try:\n",
    "        if not os.path.exists(FILE_NAME):\n",
    "            print(\"No records to update!\")\n",
    "            return\n",
    "\n",
    "        name_to_raise = input(\"Enter the name of the person to give hike: \").strip().lower()\n",
    "        percentage = float(input(\"Enter percentage hike (max 30%): \"))\n",
    "        \n",
    "        if percentage > 30:\n",
    "            print(\"Hike can't be more than 30%!\")\n",
    "            return\n",
    "\n",
    "        updated_lines = []\n",
    "        found = False\n",
    "\n",
    "        with open(FILE_NAME, \"r\") as file:\n",
    "            for line in file:\n",
    "                name, age, salary, designation = line.strip().split(\",\")\n",
    "                if name.lower() == name_to_raise:\n",
    "                    old_salary = int(salary)\n",
    "                    new_salary = int(old_salary + (old_salary * percentage / 100))\n",
    "                    print(f\"Salary updated for {name}: {old_salary} -> {new_salary}\")\n",
    "                    updated_lines.append(f\"{name},{age},{new_salary},{designation}\\n\")\n",
    "                    found = True\n",
    "                else:\n",
    "                    updated_lines.append(line)\n",
    "\n",
    "        if not found:\n",
    "            print(\"Employee not found.\")\n",
    "        else:\n",
    "            with open(FILE_NAME, \"w\") as file:\n",
    "                file.writelines(updated_lines)\n",
    "\n",
    "    except ValueError:\n",
    "        print(\"Invalid input! Please enter numeric value for percentage.\")\n",
    "    except Exception as e:\n",
    "        print(\"Error updating salary:\", e)\n",
    "\n",
    "def main():\n",
    "    while True:\n",
    "        print(\"\\n1. Create\\n2. Display\\n3. Raise Salary\\n4. Exit\")\n",
    "        choice = input(\"Enter your choice: \")\n",
    "\n",
    "        if choice == '1':\n",
    "            create_employee()\n",
    "        elif choice == '2':\n",
    "            display_employees()\n",
    "        elif choice == '3':\n",
    "            raise_salary()\n",
    "        elif choice == '4':\n",
    "            print(\"Thank you for using the application!\")\n",
    "            break\n",
    "        else:\n",
    "            print(\"Invalid choice. Please select from 1 to 4.\")\n",
    "\n",
    "if __name__ == \"__main__\":\n",
    "    main()\n"
   ]
  },
  {
   "cell_type": "code",
   "execution_count": null,
   "id": "0f3b4c23-ff3b-47b2-ae05-fa9b87a9299f",
   "metadata": {},
   "outputs": [],
   "source": []
  }
 ],
 "metadata": {
  "kernelspec": {
   "display_name": "Python 3 (ipykernel)",
   "language": "python",
   "name": "python3"
  },
  "language_info": {
   "codemirror_mode": {
    "name": "ipython",
    "version": 3
   },
   "file_extension": ".py",
   "mimetype": "text/x-python",
   "name": "python",
   "nbconvert_exporter": "python",
   "pygments_lexer": "ipython3",
   "version": "3.12.4"
  }
 },
 "nbformat": 4,
 "nbformat_minor": 5
}
